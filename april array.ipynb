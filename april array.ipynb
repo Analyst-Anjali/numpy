{
 "cells": [
  {
   "cell_type": "code",
   "execution_count": 1,
   "id": "12c5e48c-8387-4b1c-99ad-6d8ded5e152a",
   "metadata": {},
   "outputs": [],
   "source": [
    "import numpy as np"
   ]
  },
  {
   "cell_type": "code",
   "execution_count": 2,
   "id": "8eb1f6e6-5c0c-4225-9e4c-d368e1ac6bf5",
   "metadata": {},
   "outputs": [],
   "source": [
    "nparray = np.array([2,4,5,6,7,54,657,67])"
   ]
  },
  {
   "cell_type": "code",
   "execution_count": 3,
   "id": "cc0eccfc-b0f3-4ee2-a30a-50c6cbb73093",
   "metadata": {},
   "outputs": [
    {
     "data": {
      "text/plain": [
       "(8,)"
      ]
     },
     "execution_count": 3,
     "metadata": {},
     "output_type": "execute_result"
    }
   ],
   "source": [
    "np.shape(nparray)"
   ]
  },
  {
   "cell_type": "code",
   "execution_count": 4,
   "id": "15ce740b-4604-40f6-964f-50d217bab297",
   "metadata": {},
   "outputs": [],
   "source": [
    "nparray2 = np.array([[33,4,3,4,5,7,4]])"
   ]
  },
  {
   "cell_type": "code",
   "execution_count": 5,
   "id": "617272c2-42cd-4d6c-a2ee-18720ac7cd9d",
   "metadata": {},
   "outputs": [
    {
     "data": {
      "text/plain": [
       "(1, 7)"
      ]
     },
     "execution_count": 5,
     "metadata": {},
     "output_type": "execute_result"
    }
   ],
   "source": [
    "np.shape(nparray2)"
   ]
  },
  {
   "cell_type": "code",
   "execution_count": 6,
   "id": "4c5896c5-a150-4ea6-ac45-1d0231cc351d",
   "metadata": {},
   "outputs": [],
   "source": [
    "nparray3 = ([[[3,45,3,4,4,3,5]]])"
   ]
  },
  {
   "cell_type": "code",
   "execution_count": 7,
   "id": "c2bae05b-c4df-450b-b766-04a4e0415a84",
   "metadata": {},
   "outputs": [
    {
     "data": {
      "text/plain": [
       "(1, 1, 7)"
      ]
     },
     "execution_count": 7,
     "metadata": {},
     "output_type": "execute_result"
    }
   ],
   "source": [
    "np.shape(nparray3)"
   ]
  },
  {
   "cell_type": "code",
   "execution_count": 16,
   "id": "e469c9a9-64dc-4d9c-86c9-4263e47257bb",
   "metadata": {},
   "outputs": [],
   "source": [
    "nparray3 = np.array([[[3,45,3,4,4,3,5]],[[3,45,3,4,4,3,5]]])"
   ]
  },
  {
   "cell_type": "code",
   "execution_count": 17,
   "id": "d8aff5b8-15e3-4622-9266-56972eb63664",
   "metadata": {},
   "outputs": [
    {
     "data": {
      "text/plain": [
       "(2, 1, 7)"
      ]
     },
     "execution_count": 17,
     "metadata": {},
     "output_type": "execute_result"
    }
   ],
   "source": [
    "np.shape(nparray3)"
   ]
  },
  {
   "cell_type": "code",
   "execution_count": 19,
   "id": "35cf9bea-59a2-4925-b9da-b5388283f3ed",
   "metadata": {},
   "outputs": [],
   "source": [
    "nparray2 = np.array([[33,4,3,4,5,7,4],[33,4,3,4,5,7,4]])"
   ]
  },
  {
   "cell_type": "code",
   "execution_count": 20,
   "id": "0be5fd02-2450-42d1-a12a-431282888894",
   "metadata": {},
   "outputs": [
    {
     "data": {
      "text/plain": [
       "(2, 7)"
      ]
     },
     "execution_count": 20,
     "metadata": {},
     "output_type": "execute_result"
    }
   ],
   "source": [
    "np.shape(nparray2)"
   ]
  },
  {
   "cell_type": "code",
   "execution_count": 21,
   "id": "6a9113c6-c50b-4720-836f-318ac391e301",
   "metadata": {},
   "outputs": [
    {
     "data": {
      "text/plain": [
       "2"
      ]
     },
     "execution_count": 21,
     "metadata": {},
     "output_type": "execute_result"
    }
   ],
   "source": [
    "np.ndim(nparray2)"
   ]
  },
  {
   "cell_type": "code",
   "execution_count": 22,
   "id": "471b26d5-862d-4641-ad0a-6197b71355c2",
   "metadata": {},
   "outputs": [
    {
     "data": {
      "text/plain": [
       "3"
      ]
     },
     "execution_count": 22,
     "metadata": {},
     "output_type": "execute_result"
    }
   ],
   "source": [
    "np.ndim(nparray3)"
   ]
  },
  {
   "cell_type": "code",
   "execution_count": 23,
   "id": "5332d664-67c8-4546-80ab-5f7619c89841",
   "metadata": {},
   "outputs": [
    {
     "data": {
      "text/plain": [
       "1"
      ]
     },
     "execution_count": 23,
     "metadata": {},
     "output_type": "execute_result"
    }
   ],
   "source": [
    "np.ndim(nparray)"
   ]
  },
  {
   "cell_type": "code",
   "execution_count": 3,
   "id": "c5d3bc4b-2730-481a-a95d-0eb926647730",
   "metadata": {},
   "outputs": [
    {
     "ename": "NameError",
     "evalue": "name 'np' is not defined",
     "output_type": "error",
     "traceback": [
      "\u001b[1;31m---------------------------------------------------------------------------\u001b[0m",
      "\u001b[1;31mNameError\u001b[0m                                 Traceback (most recent call last)",
      "Cell \u001b[1;32mIn[3], line 1\u001b[0m\n\u001b[1;32m----> 1\u001b[0m a1 \u001b[38;5;241m=\u001b[39m np\u001b[38;5;241m.\u001b[39marray([\u001b[38;5;241m3\u001b[39m,\u001b[38;5;241m4\u001b[39m,\u001b[38;5;241m6\u001b[39m,\u001b[38;5;241m81\u001b[39m,\u001b[38;5;241m32\u001b[39m,\u001b[38;5;241m45\u001b[39m])\n",
      "\u001b[1;31mNameError\u001b[0m: name 'np' is not defined"
     ]
    }
   ],
   "source": [
    "a1 = np.array([3,4,6,81,32,45])"
   ]
  },
  {
   "cell_type": "code",
   "execution_count": 2,
   "id": "b0ef2f2b-de09-4262-bfe2-e6fb46b76956",
   "metadata": {},
   "outputs": [
    {
     "ename": "NameError",
     "evalue": "name 'np' is not defined",
     "output_type": "error",
     "traceback": [
      "\u001b[1;31m---------------------------------------------------------------------------\u001b[0m",
      "\u001b[1;31mNameError\u001b[0m                                 Traceback (most recent call last)",
      "Cell \u001b[1;32mIn[2], line 1\u001b[0m\n\u001b[1;32m----> 1\u001b[0m np\u001b[38;5;241m.\u001b[39msize(a1)\n",
      "\u001b[1;31mNameError\u001b[0m: name 'np' is not defined"
     ]
    }
   ],
   "source": [
    "np.size(a1)"
   ]
  },
  {
   "cell_type": "code",
   "execution_count": 4,
   "id": "6186425f-5a1c-4207-9ffe-fee2252f2408",
   "metadata": {},
   "outputs": [],
   "source": [
    "import numpy as np"
   ]
  },
  {
   "cell_type": "code",
   "execution_count": 5,
   "id": "bab02b74-45ce-46b5-8f3f-4e749eb0abc7",
   "metadata": {},
   "outputs": [],
   "source": [
    "a1 = np.array([3,4,6,81,32,45])"
   ]
  },
  {
   "cell_type": "code",
   "execution_count": 6,
   "id": "6376602e-0425-40c8-9203-3dcda797ebc3",
   "metadata": {},
   "outputs": [
    {
     "data": {
      "text/plain": [
       "6"
      ]
     },
     "execution_count": 6,
     "metadata": {},
     "output_type": "execute_result"
    }
   ],
   "source": [
    "np.size(a1)"
   ]
  },
  {
   "cell_type": "code",
   "execution_count": 8,
   "id": "bb8ea5be-1edd-4422-8e8e-ebc2a8b2cee4",
   "metadata": {},
   "outputs": [],
   "source": [
    "a1 = np.array([[3,4,6,81,32,45],[3,4,6,81,32,45]])"
   ]
  },
  {
   "cell_type": "code",
   "execution_count": 9,
   "id": "9f1d8dc0-b572-4c14-be3f-d3d68f1ba595",
   "metadata": {},
   "outputs": [
    {
     "ename": "SyntaxError",
     "evalue": "invalid syntax (3322586918.py, line 1)",
     "output_type": "error",
     "traceback": [
      "\u001b[1;36m  Cell \u001b[1;32mIn[9], line 1\u001b[1;36m\u001b[0m\n\u001b[1;33m    np.size(a1)|\u001b[0m\n\u001b[1;37m                ^\u001b[0m\n\u001b[1;31mSyntaxError\u001b[0m\u001b[1;31m:\u001b[0m invalid syntax\n"
     ]
    }
   ],
   "source": [
    "np.size(a1)|"
   ]
  },
  {
   "cell_type": "code",
   "execution_count": 10,
   "id": "57df89ce-3639-40ee-ab6c-bc0262061c5a",
   "metadata": {},
   "outputs": [
    {
     "data": {
      "text/plain": [
       "dtype('int32')"
      ]
     },
     "execution_count": 10,
     "metadata": {},
     "output_type": "execute_result"
    }
   ],
   "source": [
    "a1.dtype"
   ]
  },
  {
   "cell_type": "code",
   "execution_count": 11,
   "id": "279bd954-54c1-4d0b-9c24-ff4f1da4e325",
   "metadata": {},
   "outputs": [],
   "source": [
    "a1 = np.array([[3,4,6,81,32.6,45],[3,4,6,81,32,45]])"
   ]
  },
  {
   "cell_type": "code",
   "execution_count": 12,
   "id": "d20fb632-dd87-4e9b-aca1-001a2a6a1304",
   "metadata": {},
   "outputs": [
    {
     "data": {
      "text/plain": [
       "dtype('float64')"
      ]
     },
     "execution_count": 12,
     "metadata": {},
     "output_type": "execute_result"
    }
   ],
   "source": [
    "a1.dtype"
   ]
  },
  {
   "cell_type": "code",
   "execution_count": 15,
   "id": "45d713e8-7580-44d9-aa0e-4f7b42bd11fb",
   "metadata": {},
   "outputs": [],
   "source": [
    "starr =np.array(['hdgsd','hghsd','hjdjk'])"
   ]
  },
  {
   "cell_type": "code",
   "execution_count": 16,
   "id": "16ffc242-813f-4b70-b88e-c7ffebd59f34",
   "metadata": {},
   "outputs": [
    {
     "data": {
      "text/plain": [
       "dtype('<U5')"
      ]
     },
     "execution_count": 16,
     "metadata": {},
     "output_type": "execute_result"
    }
   ],
   "source": [
    "starr.dtype"
   ]
  },
  {
   "cell_type": "code",
   "execution_count": 17,
   "id": "32158af5-dcaa-4a62-a00e-aa63562073af",
   "metadata": {},
   "outputs": [
    {
     "data": {
      "text/plain": [
       "array([[0., 0.],\n",
       "       [0., 0.]])"
      ]
     },
     "execution_count": 17,
     "metadata": {},
     "output_type": "execute_result"
    }
   ],
   "source": [
    "np.zeros((2,2)) #to know about the matrix form use for know as row and column"
   ]
  },
  {
   "cell_type": "code",
   "execution_count": 18,
   "id": "e1135fc6-a0c4-46b6-b8ba-ed56831dce4e",
   "metadata": {},
   "outputs": [
    {
     "data": {
      "text/plain": [
       "array([[0., 0.],\n",
       "       [0., 0.],\n",
       "       [0., 0.]])"
      ]
     },
     "execution_count": 18,
     "metadata": {},
     "output_type": "execute_result"
    }
   ],
   "source": [
    "np.zeros((3,2)) "
   ]
  },
  {
   "cell_type": "code",
   "execution_count": 19,
   "id": "29e1b407-3d0d-402c-8cbe-d8d837c7562b",
   "metadata": {},
   "outputs": [
    {
     "ename": "AttributeError",
     "evalue": "module 'numpy' has no attribute 'one'",
     "output_type": "error",
     "traceback": [
      "\u001b[1;31m---------------------------------------------------------------------------\u001b[0m",
      "\u001b[1;31mAttributeError\u001b[0m                            Traceback (most recent call last)",
      "Cell \u001b[1;32mIn[19], line 1\u001b[0m\n\u001b[1;32m----> 1\u001b[0m np\u001b[38;5;241m.\u001b[39mone((\u001b[38;5;241m2\u001b[39m,\u001b[38;5;241m2\u001b[39m))\n",
      "File \u001b[1;32m~\\anaconda3\\Lib\\site-packages\\numpy\\__init__.py:333\u001b[0m, in \u001b[0;36m__getattr__\u001b[1;34m(attr)\u001b[0m\n\u001b[0;32m    330\u001b[0m     \u001b[38;5;124m\"\u001b[39m\u001b[38;5;124mRemoved in NumPy 1.25.0\u001b[39m\u001b[38;5;124m\"\u001b[39m\n\u001b[0;32m    331\u001b[0m     \u001b[38;5;28;01mraise\u001b[39;00m \u001b[38;5;167;01mRuntimeError\u001b[39;00m(\u001b[38;5;124m\"\u001b[39m\u001b[38;5;124mTester was removed in NumPy 1.25.\u001b[39m\u001b[38;5;124m\"\u001b[39m)\n\u001b[1;32m--> 333\u001b[0m \u001b[38;5;28;01mraise\u001b[39;00m \u001b[38;5;167;01mAttributeError\u001b[39;00m(\u001b[38;5;124m\"\u001b[39m\u001b[38;5;124mmodule \u001b[39m\u001b[38;5;132;01m{!r}\u001b[39;00m\u001b[38;5;124m has no attribute \u001b[39m\u001b[38;5;124m\"\u001b[39m\n\u001b[0;32m    334\u001b[0m                      \u001b[38;5;124m\"\u001b[39m\u001b[38;5;132;01m{!r}\u001b[39;00m\u001b[38;5;124m\"\u001b[39m\u001b[38;5;241m.\u001b[39mformat(\u001b[38;5;18m__name__\u001b[39m, attr))\n",
      "\u001b[1;31mAttributeError\u001b[0m: module 'numpy' has no attribute 'one'"
     ]
    }
   ],
   "source": []
  },
  {
   "cell_type": "code",
   "execution_count": 21,
   "id": "148fbc3a-ceaf-41b3-b9cf-8cd375aa0fd4",
   "metadata": {},
   "outputs": [
    {
     "data": {
      "text/plain": [
       "array([[1., 1.],\n",
       "       [1., 1.]])"
      ]
     },
     "execution_count": 21,
     "metadata": {},
     "output_type": "execute_result"
    }
   ],
   "source": [
    "np.ones((2,2))"
   ]
  },
  {
   "cell_type": "code",
   "execution_count": 22,
   "id": "bee34af4-e3f2-49c9-8d09-9db41b879690",
   "metadata": {},
   "outputs": [
    {
     "data": {
      "text/plain": [
       "array([[3, 3, 3],\n",
       "       [3, 3, 3],\n",
       "       [3, 3, 3]])"
      ]
     },
     "execution_count": 22,
     "metadata": {},
     "output_type": "execute_result"
    }
   ],
   "source": [
    "np.full((3,3),3)"
   ]
  },
  {
   "cell_type": "code",
   "execution_count": 24,
   "id": "8194e033-f66d-4e8b-b084-becc03d88f77",
   "metadata": {},
   "outputs": [
    {
     "data": {
      "text/plain": [
       "array([[0.49431359, 0.64725592],\n",
       "       [0.53788271, 0.27377331]])"
      ]
     },
     "execution_count": 24,
     "metadata": {},
     "output_type": "execute_result"
    }
   ],
   "source": [
    "np.random.rand(2,2)"
   ]
  },
  {
   "cell_type": "code",
   "execution_count": 25,
   "id": "0154b140-87ed-4071-8a23-bc9e010c9722",
   "metadata": {},
   "outputs": [
    {
     "data": {
      "text/plain": [
       "array([[0.94508403, 0.55668731, 0.33193647],\n",
       "       [0.1085584 , 0.75017509, 0.22762767],\n",
       "       [0.05365232, 0.14564288, 0.38037626]])"
      ]
     },
     "execution_count": 25,
     "metadata": {},
     "output_type": "execute_result"
    }
   ],
   "source": [
    "np.random.rand(3,3)"
   ]
  },
  {
   "cell_type": "code",
   "execution_count": 26,
   "id": "f0b92cba-5090-4079-8650-d2afff3fba14",
   "metadata": {},
   "outputs": [],
   "source": [
    "a1 = np.array([3,4,6,81,32.6,45])"
   ]
  },
  {
   "cell_type": "code",
   "execution_count": 27,
   "id": "df7f7b8b-224d-49fb-b579-8a998db9877c",
   "metadata": {},
   "outputs": [
    {
     "data": {
      "text/plain": [
       "28.599999999999998"
      ]
     },
     "execution_count": 27,
     "metadata": {},
     "output_type": "execute_result"
    }
   ],
   "source": [
    "a1.mean() #to find average"
   ]
  },
  {
   "cell_type": "code",
   "execution_count": 28,
   "id": "ecb6c778-fc72-4f6f-a1af-4b3b49bbb460",
   "metadata": {},
   "outputs": [
    {
     "data": {
      "text/plain": [
       "3.0"
      ]
     },
     "execution_count": 28,
     "metadata": {},
     "output_type": "execute_result"
    }
   ],
   "source": [
    "a1.min() #to find the minimum value"
   ]
  },
  {
   "cell_type": "code",
   "execution_count": 29,
   "id": "dc16cff6-44bf-4833-98d1-bb78271a24c0",
   "metadata": {},
   "outputs": [
    {
     "data": {
      "text/plain": [
       "81.0"
      ]
     },
     "execution_count": 29,
     "metadata": {},
     "output_type": "execute_result"
    }
   ],
   "source": [
    "a1.max() "
   ]
  },
  {
   "cell_type": "code",
   "execution_count": 30,
   "id": "52cb2de7-bdf4-4a15-94d6-9d9e4c137863",
   "metadata": {},
   "outputs": [
    {
     "data": {
      "text/plain": [
       "28.290163190291665"
      ]
     },
     "execution_count": 30,
     "metadata": {},
     "output_type": "execute_result"
    }
   ],
   "source": [
    "a1.std() #to find the variants means kon si value kitne rate me varient kar rhi hai std= standard deviation"
   ]
  },
  {
   "cell_type": "code",
   "execution_count": 31,
   "id": "1a5694ab-ddb5-4e44-a185-3500dce72d3d",
   "metadata": {},
   "outputs": [
    {
     "data": {
      "text/plain": [
       "800.3333333333335"
      ]
     },
     "execution_count": 31,
     "metadata": {},
     "output_type": "execute_result"
    }
   ],
   "source": [
    "a1.var() #var means variance means square of standard daviation"
   ]
  },
  {
   "cell_type": "code",
   "execution_count": 32,
   "id": "1520e322-ca8e-4dfd-9003-ac2093037438",
   "metadata": {},
   "outputs": [],
   "source": [
    "m1 = np.array([[2,3],[23,2]])"
   ]
  },
  {
   "cell_type": "code",
   "execution_count": 33,
   "id": "04a80244-a976-454e-9553-0ff8ba787c79",
   "metadata": {},
   "outputs": [],
   "source": [
    "m2 = np.array([[2,3],[23,2]])"
   ]
  },
  {
   "cell_type": "code",
   "execution_count": 34,
   "id": "c208b121-32d6-4d9f-a0af-4b591cc7f89d",
   "metadata": {},
   "outputs": [
    {
     "data": {
      "text/plain": [
       "array([[73, 12],\n",
       "       [92, 73]])"
      ]
     },
     "execution_count": 34,
     "metadata": {},
     "output_type": "execute_result"
    }
   ],
   "source": [
    "m1@m2 #to multiply two metrix use @ but multiply of two value use is * "
   ]
  },
  {
   "cell_type": "code",
   "execution_count": 35,
   "id": "53ec3815-10a9-4f10-871d-67b2043e33e0",
   "metadata": {},
   "outputs": [
    {
     "data": {
      "text/plain": [
       "array([[  4,   9],\n",
       "       [529,   4]])"
      ]
     },
     "execution_count": 35,
     "metadata": {},
     "output_type": "execute_result"
    }
   ],
   "source": [
    "m1*m2"
   ]
  },
  {
   "cell_type": "code",
   "execution_count": 40,
   "id": "da245397-bb60-49be-b9f9-c321c0be135a",
   "metadata": {},
   "outputs": [],
   "source": [
    "d1= np.array([2,3,45,79,7,21,23])"
   ]
  },
  {
   "cell_type": "code",
   "execution_count": 42,
   "id": "5eb38ee1-ea5b-4839-ae54-8fedbfdbab14",
   "metadata": {},
   "outputs": [
    {
     "ename": "ValueError",
     "evalue": "cannot reshape array of size 7 into shape (2,3,45,79,7,21,23)",
     "output_type": "error",
     "traceback": [
      "\u001b[1;31m---------------------------------------------------------------------------\u001b[0m",
      "\u001b[1;31mValueError\u001b[0m                                Traceback (most recent call last)",
      "Cell \u001b[1;32mIn[42], line 1\u001b[0m\n\u001b[1;32m----> 1\u001b[0m d1\u001b[38;5;241m.\u001b[39mreshape([\u001b[38;5;241m2\u001b[39m,\u001b[38;5;241m3\u001b[39m,\u001b[38;5;241m45\u001b[39m,\u001b[38;5;241m79\u001b[39m,\u001b[38;5;241m7\u001b[39m,\u001b[38;5;241m21\u001b[39m,\u001b[38;5;241m23\u001b[39m])\n",
      "\u001b[1;31mValueError\u001b[0m: cannot reshape array of size 7 into shape (2,3,45,79,7,21,23)"
     ]
    }
   ],
   "source": [
    "d1.reshape([2,3,45,79,7,21,23])"
   ]
  },
  {
   "cell_type": "code",
   "execution_count": 44,
   "id": "777b865d-1d04-434e-b087-673a2c95033e",
   "metadata": {},
   "outputs": [
    {
     "data": {
      "text/plain": [
       "array([[ 2,  3, 45, 79,  7, 21, 23]])"
      ]
     },
     "execution_count": 44,
     "metadata": {},
     "output_type": "execute_result"
    }
   ],
   "source": [
    "d1.reshape(1,7) #reshape is use for covert data one dimensional into two dimensional"
   ]
  },
  {
   "cell_type": "code",
   "execution_count": 45,
   "id": "06a37144-a128-42d7-871e-6e0e9a577c4e",
   "metadata": {},
   "outputs": [],
   "source": [
    "d1= np.array([2,3,45,79,7,21])"
   ]
  },
  {
   "cell_type": "code",
   "execution_count": 46,
   "id": "02930353-5599-432f-a607-53e32659343c",
   "metadata": {},
   "outputs": [
    {
     "data": {
      "text/plain": [
       "array([[ 2,  3, 45, 79,  7, 21]])"
      ]
     },
     "execution_count": 46,
     "metadata": {},
     "output_type": "execute_result"
    }
   ],
   "source": [
    "d1.reshape(1,6)"
   ]
  },
  {
   "cell_type": "code",
   "execution_count": 47,
   "id": "d916c83d-5fdf-400e-9e21-94d286a3834d",
   "metadata": {},
   "outputs": [
    {
     "data": {
      "text/plain": [
       "array([[ 2,  3, 45],\n",
       "       [79,  7, 21]])"
      ]
     },
     "execution_count": 47,
     "metadata": {},
     "output_type": "execute_result"
    }
   ],
   "source": [
    "d1.reshape(2,3)"
   ]
  },
  {
   "cell_type": "code",
   "execution_count": 48,
   "id": "848daf5a-80f3-4539-89b9-a009d8b587ff",
   "metadata": {},
   "outputs": [
    {
     "data": {
      "text/plain": [
       "array([[ 2,  3],\n",
       "       [45, 79],\n",
       "       [ 7, 21]])"
      ]
     },
     "execution_count": 48,
     "metadata": {},
     "output_type": "execute_result"
    }
   ],
   "source": [
    "d1.reshape(3,2)"
   ]
  },
  {
   "cell_type": "code",
   "execution_count": 49,
   "id": "73d088c0-93ea-4cd9-b56a-647552026e5a",
   "metadata": {},
   "outputs": [],
   "source": [
    "x = d1.reshape(3,2)"
   ]
  },
  {
   "cell_type": "code",
   "execution_count": 50,
   "id": "c556d7ed-c0dd-47bb-9c51-90227422afb9",
   "metadata": {},
   "outputs": [
    {
     "data": {
      "text/plain": [
       "array([[ 2,  3],\n",
       "       [45, 79],\n",
       "       [ 7, 21]])"
      ]
     },
     "execution_count": 50,
     "metadata": {},
     "output_type": "execute_result"
    }
   ],
   "source": [
    "x"
   ]
  },
  {
   "cell_type": "code",
   "execution_count": 51,
   "id": "b1ef70db-db22-4c4a-bcc3-1d4186e6dc4e",
   "metadata": {},
   "outputs": [
    {
     "data": {
      "text/plain": [
       "array([ 2,  3, 45, 79,  7, 21])"
      ]
     },
     "execution_count": 51,
     "metadata": {},
     "output_type": "execute_result"
    }
   ],
   "source": [
    "x.flatten() #flatten is used for again shape form me convert karne ke liye"
   ]
  },
  {
   "cell_type": "code",
   "execution_count": 52,
   "id": "9771040b-cc18-4b30-b2ab-21208a935ac5",
   "metadata": {},
   "outputs": [],
   "source": [
    "y =x.flatten()"
   ]
  },
  {
   "cell_type": "code",
   "execution_count": 53,
   "id": "7bd3d781-7557-4893-a1ff-71139f014610",
   "metadata": {},
   "outputs": [
    {
     "data": {
      "text/plain": [
       "array([ 2,  3, 45, 79,  7, 21])"
      ]
     },
     "execution_count": 53,
     "metadata": {},
     "output_type": "execute_result"
    }
   ],
   "source": [
    "y"
   ]
  },
  {
   "cell_type": "code",
   "execution_count": 55,
   "id": "03141ea3-a039-4c7e-8e13-7243e9b35545",
   "metadata": {},
   "outputs": [
    {
     "data": {
      "text/plain": [
       "2"
      ]
     },
     "execution_count": 55,
     "metadata": {},
     "output_type": "execute_result"
    }
   ],
   "source": [
    "y[0] #[]used for specific range or find the index value"
   ]
  },
  {
   "cell_type": "code",
   "execution_count": 56,
   "id": "5d04373b-733c-41ce-889f-5f1a706d5493",
   "metadata": {},
   "outputs": [
    {
     "data": {
      "text/plain": [
       "79"
      ]
     },
     "execution_count": 56,
     "metadata": {},
     "output_type": "execute_result"
    }
   ],
   "source": [
    "y[3]"
   ]
  },
  {
   "cell_type": "code",
   "execution_count": 57,
   "id": "ac1742a0-40c7-4da0-a59d-215b2b4cf1b2",
   "metadata": {},
   "outputs": [
    {
     "data": {
      "text/plain": [
       "array([ 2,  3, 45])"
      ]
     },
     "execution_count": 57,
     "metadata": {},
     "output_type": "execute_result"
    }
   ],
   "source": [
    "y[0:3]"
   ]
  },
  {
   "cell_type": "code",
   "execution_count": 59,
   "id": "4c639c61-97cb-464b-8902-86b9b0d1cbdc",
   "metadata": {},
   "outputs": [
    {
     "data": {
      "text/plain": [
       "array([21,  7, 79, 45,  3,  2])"
      ]
     },
     "execution_count": 59,
     "metadata": {},
     "output_type": "execute_result"
    }
   ],
   "source": [
    "y[::-1] # used for reverse the array "
   ]
  },
  {
   "cell_type": "code",
   "execution_count": null,
   "id": "422d4f57-f19d-49ea-b92d-e607c6caa68b",
   "metadata": {},
   "outputs": [],
   "source": []
  }
 ],
 "metadata": {
  "kernelspec": {
   "display_name": "Python 3 (ipykernel)",
   "language": "python",
   "name": "python3"
  },
  "language_info": {
   "codemirror_mode": {
    "name": "ipython",
    "version": 3
   },
   "file_extension": ".py",
   "mimetype": "text/x-python",
   "name": "python",
   "nbconvert_exporter": "python",
   "pygments_lexer": "ipython3",
   "version": "3.12.7"
  }
 },
 "nbformat": 4,
 "nbformat_minor": 5
}
