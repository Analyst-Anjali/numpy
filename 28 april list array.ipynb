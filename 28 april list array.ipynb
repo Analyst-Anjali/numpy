{
 "cells": [
  {
   "cell_type": "code",
   "execution_count": 1,
   "id": "12c5e48c-8387-4b1c-99ad-6d8ded5e152a",
   "metadata": {},
   "outputs": [],
   "source": [
    "import numpy as np"
   ]
  },
  {
   "cell_type": "code",
   "execution_count": 2,
   "id": "8eb1f6e6-5c0c-4225-9e4c-d368e1ac6bf5",
   "metadata": {},
   "outputs": [],
   "source": [
    "nparray = np.array([2,4,5,6,7,54,657,67])"
   ]
  },
  {
   "cell_type": "code",
   "execution_count": 3,
   "id": "cc0eccfc-b0f3-4ee2-a30a-50c6cbb73093",
   "metadata": {},
   "outputs": [
    {
     "data": {
      "text/plain": [
       "(8,)"
      ]
     },
     "execution_count": 3,
     "metadata": {},
     "output_type": "execute_result"
    }
   ],
   "source": [
    "np.shape(nparray)"
   ]
  },
  {
   "cell_type": "code",
   "execution_count": 4,
   "id": "15ce740b-4604-40f6-964f-50d217bab297",
   "metadata": {},
   "outputs": [],
   "source": [
    "nparray2 = np.array([[33,4,3,4,5,7,4]])"
   ]
  },
  {
   "cell_type": "code",
   "execution_count": 5,
   "id": "617272c2-42cd-4d6c-a2ee-18720ac7cd9d",
   "metadata": {},
   "outputs": [
    {
     "data": {
      "text/plain": [
       "(1, 7)"
      ]
     },
     "execution_count": 5,
     "metadata": {},
     "output_type": "execute_result"
    }
   ],
   "source": [
    "np.shape(nparray2)"
   ]
  },
  {
   "cell_type": "code",
   "execution_count": 6,
   "id": "4c5896c5-a150-4ea6-ac45-1d0231cc351d",
   "metadata": {},
   "outputs": [],
   "source": [
    "nparray3 = ([[[3,45,3,4,4,3,5]]])"
   ]
  },
  {
   "cell_type": "code",
   "execution_count": 7,
   "id": "c2bae05b-c4df-450b-b766-04a4e0415a84",
   "metadata": {},
   "outputs": [
    {
     "data": {
      "text/plain": [
       "(1, 1, 7)"
      ]
     },
     "execution_count": 7,
     "metadata": {},
     "output_type": "execute_result"
    }
   ],
   "source": [
    "np.shape(nparray3)"
   ]
  },
  {
   "cell_type": "code",
   "execution_count": 16,
   "id": "e469c9a9-64dc-4d9c-86c9-4263e47257bb",
   "metadata": {},
   "outputs": [],
   "source": [
    "nparray3 = np.array([[[3,45,3,4,4,3,5]],[[3,45,3,4,4,3,5]]])"
   ]
  },
  {
   "cell_type": "code",
   "execution_count": 17,
   "id": "d8aff5b8-15e3-4622-9266-56972eb63664",
   "metadata": {},
   "outputs": [
    {
     "data": {
      "text/plain": [
       "(2, 1, 7)"
      ]
     },
     "execution_count": 17,
     "metadata": {},
     "output_type": "execute_result"
    }
   ],
   "source": [
    "np.shape(nparray3)"
   ]
  },
  {
   "cell_type": "code",
   "execution_count": 19,
   "id": "35cf9bea-59a2-4925-b9da-b5388283f3ed",
   "metadata": {},
   "outputs": [],
   "source": [
    "nparray2 = np.array([[33,4,3,4,5,7,4],[33,4,3,4,5,7,4]])"
   ]
  },
  {
   "cell_type": "code",
   "execution_count": 20,
   "id": "0be5fd02-2450-42d1-a12a-431282888894",
   "metadata": {},
   "outputs": [
    {
     "data": {
      "text/plain": [
       "(2, 7)"
      ]
     },
     "execution_count": 20,
     "metadata": {},
     "output_type": "execute_result"
    }
   ],
   "source": [
    "np.shape(nparray2)"
   ]
  },
  {
   "cell_type": "code",
   "execution_count": 21,
   "id": "6a9113c6-c50b-4720-836f-318ac391e301",
   "metadata": {},
   "outputs": [
    {
     "data": {
      "text/plain": [
       "2"
      ]
     },
     "execution_count": 21,
     "metadata": {},
     "output_type": "execute_result"
    }
   ],
   "source": [
    "np.ndim(nparray2)"
   ]
  },
  {
   "cell_type": "code",
   "execution_count": 22,
   "id": "471b26d5-862d-4641-ad0a-6197b71355c2",
   "metadata": {},
   "outputs": [
    {
     "data": {
      "text/plain": [
       "3"
      ]
     },
     "execution_count": 22,
     "metadata": {},
     "output_type": "execute_result"
    }
   ],
   "source": [
    "np.ndim(nparray3)"
   ]
  },
  {
   "cell_type": "code",
   "execution_count": 23,
   "id": "5332d664-67c8-4546-80ab-5f7619c89841",
   "metadata": {},
   "outputs": [
    {
     "data": {
      "text/plain": [
       "1"
      ]
     },
     "execution_count": 23,
     "metadata": {},
     "output_type": "execute_result"
    }
   ],
   "source": [
    "np.ndim(nparray)"
   ]
  },
  {
   "cell_type": "code",
   "execution_count": null,
   "id": "c5d3bc4b-2730-481a-a95d-0eb926647730",
   "metadata": {},
   "outputs": [],
   "source": []
  }
 ],
 "metadata": {
  "kernelspec": {
   "display_name": "Python 3 (ipykernel)",
   "language": "python",
   "name": "python3"
  },
  "language_info": {
   "codemirror_mode": {
    "name": "ipython",
    "version": 3
   },
   "file_extension": ".py",
   "mimetype": "text/x-python",
   "name": "python",
   "nbconvert_exporter": "python",
   "pygments_lexer": "ipython3",
   "version": "3.12.7"
  }
 },
 "nbformat": 4,
 "nbformat_minor": 5
}
